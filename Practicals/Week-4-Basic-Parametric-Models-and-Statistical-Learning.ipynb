{
 "cells": [
  {
   "cell_type": "markdown",
   "metadata": {},
   "source": [
    "# Week 4 Practical: Basic Parametric models and Statistical Learning\n",
    "\n",
    "**Aims:**\n",
    "- To gain some experience in performing regression with linear and polynomial models and classification with parametric models.\n",
    "- To produce some assessable work for this subject."
   ]
  },
  {
   "cell_type": "markdown",
   "metadata": {},
   "source": [
    "---"
   ]
  },
  {
   "cell_type": "code",
   "execution_count": null,
   "metadata": {},
   "outputs": [],
   "source": [
    "# Imports"
   ]
  },
  {
   "cell_type": "markdown",
   "metadata": {},
   "source": [
    "---"
   ]
  },
  {
   "cell_type": "markdown",
   "metadata": {},
   "source": [
    "## Linear and Polynomial Regression"
   ]
  },
  {
   "cell_type": "markdown",
   "metadata": {},
   "source": [
    "---"
   ]
  },
  {
   "cell_type": "markdown",
   "metadata": {},
   "source": [
    "**Question 1.A**\n",
    "\n",
    "Plot the function $f(x) = x^{3} + 1$ over the domain $[-1,1]$. This is the \"true\" function for our regression problem. However, the data that we observe (i.e what we train the model with) will have Gaussian noise added to the output target values."
   ]
  },
  {
   "cell_type": "markdown",
   "metadata": {},
   "source": [
    "**Question 1.B**\n",
    "\n",
    "Create a \"sample training set\" of 30 points by generating a random set of x/input values, and then corresponding outputs by evaluating the true function at each input value and adding Gaussian random noise. Plot the data on the same axes as the function."
   ]
  },
  {
   "cell_type": "markdown",
   "metadata": {},
   "source": [
    "**Question 1.C**\n",
    "\n",
    "Perform linear regression using your training set and calculate the training set (sum of squares) error."
   ]
  },
  {
   "cell_type": "markdown",
   "metadata": {},
   "source": [
    "**Question 1.D**\n",
    "\n",
    "Perform polynomial regression using your training set and calculate the training set (sum of squares) error. Experiment with different order polynomials and observe the effect on the training set error.\n"
   ]
  },
  {
   "cell_type": "markdown",
   "metadata": {},
   "source": [
    "---"
   ]
  },
  {
   "cell_type": "markdown",
   "metadata": {},
   "source": [
    "**Question 2.A**\n",
    "\n",
    "Download the dataset pokemonregr.csv from blackboard. This contains $7$ of the columns from the pokemon dataset. Open the file in a spreadsheet or preview the first few lines to see what it “looks like”."
   ]
  },
  {
   "cell_type": "markdown",
   "metadata": {},
   "source": [
    "**Question 2.B**\n",
    "\n",
    "Fit a linear regression model to the data, using the final column (weight in kg) asthe output/target variable. "
   ]
  },
  {
   "cell_type": "markdown",
   "metadata": {},
   "source": [
    "**Question 2.C**\n",
    "\n",
    "What are the coefficients/parameters of your regression model?\n"
   ]
  },
  {
   "cell_type": "markdown",
   "metadata": {},
   "source": [
    "**Question 2.D**\n",
    "\n",
    "Recall that the coefficients can be interpreted as a weight of the importance of each weight to the predicted output. Which feature is most important for predicting weight?"
   ]
  },
  {
   "cell_type": "markdown",
   "metadata": {},
   "source": [
    "**Question 2.E**\n",
    "\n",
    "One potential issue is that the data you have used is not normalized (read the short section at the end of Sec.2.2 in the textbook. Normalise your input features and refit the linear regression model. Compare the coefficients for the resulting model to your answer from (d).\n"
   ]
  },
  {
   "cell_type": "markdown",
   "metadata": {},
   "source": [
    "---"
   ]
  },
  {
   "cell_type": "markdown",
   "metadata": {},
   "source": [
    "## Logistic Regression"
   ]
  },
  {
   "cell_type": "markdown",
   "metadata": {},
   "source": [
    "---"
   ]
  },
  {
   "cell_type": "markdown",
   "metadata": {},
   "source": [
    "**Note:**\n",
    "\n",
    "implementations of logistic regression can be a part of functions that do additional things and return lots of additional information. Don’t worry about this extra stuff for now. Feel free to use ChatGPT to help you with this question!"
   ]
  },
  {
   "cell_type": "markdown",
   "metadata": {},
   "source": [
    "---"
   ]
  },
  {
   "cell_type": "markdown",
   "metadata": {},
   "source": [
    "**Question 3.A**\n",
    "\n",
    "Fit a logistic regression model to the data in w3classif.csv. What are the model parameter values?"
   ]
  },
  {
   "cell_type": "markdown",
   "metadata": {},
   "source": [
    "**Question 3.B**\n",
    "\n",
    "Given a test data point $x' = (1.1, 1.1)$, what does your model predict a $(y'=1|x')$?"
   ]
  },
  {
   "cell_type": "markdown",
   "metadata": {},
   "source": [
    "**Question 3.C**\n",
    "\n",
    "Plot the data with discriminant function and the decision regions for your model."
   ]
  },
  {
   "cell_type": "markdown",
   "metadata": {},
   "source": [
    "---"
   ]
  }
 ],
 "metadata": {
  "kernelspec": {
   "display_name": "Python 3",
   "language": "python",
   "name": "python3"
  },
  "language_info": {
   "name": "python",
   "version": "3.11.9"
  }
 },
 "nbformat": 4,
 "nbformat_minor": 2
}
